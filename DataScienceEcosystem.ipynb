{
 "cells": [
  {
   "cell_type": "markdown",
   "id": "4a8ed1d7-8c41-43de-9082-3983a6aee016",
   "metadata": {},
   "source": [
    "# Data Science Tools and Ecosystem #"
   ]
  },
  {
   "cell_type": "markdown",
   "id": "9ba17ded-d40c-4635-af00-62b74cd35e99",
   "metadata": {},
   "source": [
    "In this notebook, Data Science Tools and Ecosystem are summarized."
   ]
  },
  {
   "cell_type": "markdown",
   "id": "52d62616-8c0b-46e1-ae17-e70f8af3209f",
   "metadata": {},
   "source": [
    "**Objectives:**"
   ]
  },
  {
   "cell_type": "markdown",
   "id": "0e0f63c3-8610-4bb1-ab88-5825d6be16e4",
   "metadata": {},
   "source": [
    "* Popular languages\n",
    "* Commonly used libraries \n",
    "* Creating tables"
   ]
  },
  {
   "cell_type": "markdown",
   "id": "85b38719-844e-473f-a704-0c6910fa9cee",
   "metadata": {},
   "source": [
    "Some of the popular languages that Data Scientists use are:"
   ]
  },
  {
   "cell_type": "markdown",
   "id": "772cee7a-e9e0-4d99-afa2-7919e0952494",
   "metadata": {},
   "source": [
    "1. SQL\n",
    "2. Python\n",
    "3. Java"
   ]
  },
  {
   "cell_type": "markdown",
   "id": "a74dcea1-a6dd-451d-aa8a-d1389dd3982e",
   "metadata": {},
   "source": [
    "Some of the commonly used libraries used by Data Scientists include:"
   ]
  },
  {
   "cell_type": "markdown",
   "id": "632277c9-28a9-413f-b705-3e310bb701bf",
   "metadata": {},
   "source": [
    "1. NumPy\n",
    "2. Pandas\n",
    "3. Plotly"
   ]
  },
  {
   "cell_type": "markdown",
   "id": "198cbb51-a6ea-45d6-8585-b8ff83306cb9",
   "metadata": {},
   "source": [
    "| Data Science Tools |\n",
    "|:-------------------:|\n",
    "| RStudio |\n",
    "| PyCharm |\n",
    "| Jupyter |"
   ]
  },
  {
   "cell_type": "markdown",
   "id": "df655d03-e145-4486-aaf1-9ab553eb4326",
   "metadata": {},
   "source": [
    "Below are a few examples of evaluating arithmetic expressions in Python"
   ]
  },
  {
   "cell_type": "code",
   "execution_count": 14,
   "id": "d9ca5153-b96e-4675-b1a0-972c5a5c71a3",
   "metadata": {},
   "outputs": [],
   "source": [
    "#This a simple arithmetic expression to mutiply then add integers"
   ]
  },
  {
   "cell_type": "code",
   "execution_count": 16,
   "id": "d9820a02-c2f8-4259-8f2c-ed88f3f37d3b",
   "metadata": {},
   "outputs": [
    {
     "data": {
      "text/plain": [
       "17"
      ]
     },
     "execution_count": 16,
     "metadata": {},
     "output_type": "execute_result"
    }
   ],
   "source": [
    "(3*4)+5"
   ]
  },
  {
   "cell_type": "markdown",
   "id": "174d7e09-aca2-449d-9f17-62c5bc37d6b3",
   "metadata": {},
   "source": [
    "#This will convert 200 minutes to hours by diving by 60"
   ]
  },
  {
   "cell_type": "code",
   "execution_count": 19,
   "id": "591b6359-8be4-4d87-a013-add68cba8338",
   "metadata": {},
   "outputs": [
    {
     "name": "stdout",
     "output_type": "stream",
     "text": [
      "3.3333333333333335\n"
     ]
    }
   ],
   "source": [
    "minutes = 200\n",
    "hours = minutes/60\n",
    "print(hours)"
   ]
  },
  {
   "cell_type": "markdown",
   "id": "cbe24db2-2c7f-449e-a72c-330fbe76e66b",
   "metadata": {},
   "source": [
    "## Author ##"
   ]
  },
  {
   "cell_type": "markdown",
   "id": "6ea2ebaa-953b-4786-91c4-7d0169c30ddb",
   "metadata": {},
   "source": [
    "Edem Kofi Yevutsey"
   ]
  },
  {
   "cell_type": "code",
   "execution_count": null,
   "id": "80e767da-5a21-46f1-8fc9-740c17299b64",
   "metadata": {},
   "outputs": [],
   "source": []
  }
 ],
 "metadata": {
  "kernelspec": {
   "display_name": "Python 3 (ipykernel)",
   "language": "python",
   "name": "python3"
  },
  "language_info": {
   "codemirror_mode": {
    "name": "ipython",
    "version": 3
   },
   "file_extension": ".py",
   "mimetype": "text/x-python",
   "name": "python",
   "nbconvert_exporter": "python",
   "pygments_lexer": "ipython3",
   "version": "3.11.9"
  }
 },
 "nbformat": 4,
 "nbformat_minor": 5
}
